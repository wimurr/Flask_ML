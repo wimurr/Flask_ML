{
 "cells": [
  {
   "cell_type": "markdown",
   "metadata": {},
   "source": [
    "## Using Python requests package to send a POST request to a Flask task set up in another notebook. Alternatively, we can use POSTMAN with a JSON content body."
   ]
  },
  {
   "cell_type": "code",
   "execution_count": 1,
   "metadata": {},
   "outputs": [],
   "source": [
    "import requests,time"
   ]
  },
  {
   "cell_type": "code",
   "execution_count": 2,
   "metadata": {},
   "outputs": [],
   "source": [
    "def ask_title_max_min(name,max_len,min_len,use_BART_or_T5=\"BART\"):\n",
    "    start_time = time.time()\n",
    "    # In the dict below, ensure you use DOUBLE-QUOTES, not single quotes\n",
    "    # otherwise the conversion to JSON will fail.\n",
    "    json = {\"page_title\":name,\"BART_or_T5\":use_BART_or_T5,\"max_len\":max_len,\"min_len\":min_len}\n",
    "    # Here we make a POST request to port 5000, endpoint /api\n",
    "    # Port 5000 is the default port for Flask applications.\n",
    "    r = requests.post(\"http://localhost:5000/api\",json=json)\n",
    "    if r.status_code==200:\n",
    "        print(f\"Works! Text = '{r.text}'\")\n",
    "    else:\n",
    "        print(f\"Fail! Text = '{r.text}'\")\n",
    "    end_time = time.time()\n",
    "    print(f\"Done, took {end_time-start_time:.2f} sec, used {use_BART_or_T5} for summarizing intro to page on '{name}'.\")"
   ]
  },
  {
   "cell_type": "markdown",
   "metadata": {},
   "source": [
    "## Comparing BART to T5, BART provides better summaries in general."
   ]
  },
  {
   "cell_type": "code",
   "execution_count": 3,
   "metadata": {
    "scrolled": false
   },
   "outputs": [
    {
     "name": "stdout",
     "output_type": "stream",
     "text": [
      "Works! Text = '{\n",
      "  \"errors\": [], \n",
      "  \"id\": \"25861b2e-7c11-4c17-8939-378e50e79b57\", \n",
      "  \"text\": \" Adolf Hitler was an Austrian-born German politician who was the dictator of Germany from 1933 until his death in 1945 . He rose to power as the leader of the Nazi Party, becoming the chancellor in 1933 . During his dictatorship, he initiated World War II in Europe by invading Poland on 1 September 1939 . He was central to the perpetration of the Holocaust, the genocide of about six million Jews and other victims .\"\n",
      "}\n",
      "'\n",
      "Done, took 10.29 sec, used BART for summarizing intro to page on 'Adolf Hitler'.\n"
     ]
    }
   ],
   "source": [
    "ask_title_max_min(\"Adolf Hitler\",256,64,\"BART\")"
   ]
  },
  {
   "cell_type": "code",
   "execution_count": 4,
   "metadata": {},
   "outputs": [
    {
     "name": "stdout",
     "output_type": "stream",
     "text": [
      "Works! Text = '{\n",
      "  \"errors\": [], \n",
      "  \"id\": \"31559c3f-ef17-48b2-9411-4c2c94b4e7a9\", \n",
      "  \"text\": \"<pad> adolf Hitler was the dictator of germany from 1933 until his death in 1945. he initiated world war II by invading Poland on 1 September 1939. during his dictatorship, he was central to the perpetration of the Holocaust, the genocide of about six million Jews.</s>\"\n",
      "}\n",
      "'\n",
      "Done, took 11.95 sec, used T5 for summarizing intro to page on 'Adolf Hitler'.\n"
     ]
    }
   ],
   "source": [
    "ask_title_max_min(\"Adolf Hitler\",256,64,\"T5\")"
   ]
  },
  {
   "cell_type": "code",
   "execution_count": 5,
   "metadata": {},
   "outputs": [
    {
     "name": "stdout",
     "output_type": "stream",
     "text": [
      "Works! Text = '{\n",
      "  \"errors\": [], \n",
      "  \"id\": \"f88ae7bf-8b00-4469-a32e-a8aa8c170ea3\", \n",
      "  \"text\": \" In the social sciences, framing comprises a set of concepts and theoretical perspectives on how individuals, groups, and societies organize, perceive, and communicate about reality . Successful framing techniques can be used to reduce the ambiguity of intangible topics by contextualizing the information in such a way that recipients can connect to what they already know . The effects of framing can be seen in journalism:  the \\\"frame\\\" surrounding the issue can change the reader's perception without having to alter the actual facts as the same information is used as a base . In the context of politics or mass-media communication, a frame defines the packaging of an element of rhetoric in a way as to encourage certain interpretations and to discourage others . For political purposes, framing often presents facts in such an implicates a problem that is in need of a solution . The effect of framing is seen in the media\\u2019s choice of certain words and images to cover a story (i.e using the word fetus vs. the word baby) This is done through the media's choice of words and image to cover the story . The framing may be in the form of equivalence frames, where two or more logically equivalent alternatives are portrayed in different ways (see framing effect) or emphasis frames, which simplify reality by focusing on a\"\n",
      "}\n",
      "'\n",
      "Done, took 25.47 sec, used BART for summarizing intro to page on 'Cognitive Framing'.\n"
     ]
    }
   ],
   "source": [
    "ask_title_max_min(\"Cognitive Framing\",512,256,\"BART\")"
   ]
  },
  {
   "cell_type": "code",
   "execution_count": 6,
   "metadata": {},
   "outputs": [
    {
     "name": "stdout",
     "output_type": "stream",
     "text": [
      "Works! Text = '{\n",
      "  \"errors\": [], \n",
      "  \"id\": \"36113b17-3f2e-441a-b0b7-57540ab6c6e1\", \n",
      "  \"text\": \"<pad> framing is a key component of sociology, the study of social interaction among humans. successful framing techniques can be used to reduce the ambiguity of intangible topics. framing involves social construction of a social phenomenon \\u2013 by mass media sources, political or social movements, political leaders, or other actors and organizations. the effects of framing in communication can be seen in journalism as positive or negative \\u2013 depending on the audience and what kind of information is being presented. the effects of fram<extra_id_1><extra_id_1><extra_id_1><extra_id_1><extra_id_1><extra_id_1><extra_id_1><extra_id_1><extra_id_1><extra_id_1><extra_id_1><extra_id_1><extra_id_1><extra_id_1><extra_id_1><extra_id_1><extra_id_1><extra_id_1><extra_id_1><extra_id_1><extra_id_1><extra_id_1><extra_id_1><extra_id_1><extra_id_1>.......................................................... </s>\"\n",
      "}\n",
      "'\n",
      "Done, took 35.25 sec, used T5 for summarizing intro to page on 'Cognitive Framing'.\n"
     ]
    }
   ],
   "source": [
    "ask_title_max_min(\"Cognitive Framing\",512,256,\"T5\")"
   ]
  },
  {
   "cell_type": "code",
   "execution_count": 7,
   "metadata": {},
   "outputs": [
    {
     "name": "stdout",
     "output_type": "stream",
     "text": [
      "Works! Text = '{\n",
      "  \"errors\": [], \n",
      "  \"id\": \"5ffee3cf-b801-46bd-bd6d-8fd243208502\", \n",
      "  \"text\": \"<pad> Sigmund Freud was an Austrian neurologist and the founder of psychoanalysis. he developed techniques such as the use of free association and discovered transference. he postulated existence of libido, sexualised energy and a death drive. he also developed a model of psychic structure comprising id, ego and super-ego. he died in exile in the uk in 1939; he remains influential within psychology, psychiatry. <extra_id_1><extra_id_1><extra_id_1><extra_id_1><extra_id_1><extra_id_1> <extra_id_1> <extra_id_1> <extra_id_1> <extra_id_1> <extra_id_1> <extra_id_1> <extra_id_1> <extra_id_1> <extra_id_1> <extra_id_1> <extra_id_1> <extra_id_1> <extra_id_1> <extra_id_1> <extra_id_1> <extra_id_1> <extra_id_1> <extra_id_1> <extra_id_1>. <extra_id_1> <extra_id_1> <extra_id_1> <extra_id_1> <extra_id_1> <extra_id_1> <extra_id_1> <extra_id_1> <extra_id_1> <extra_id_1> <extra_id_1> <extra_id_1> <extra_id_1> <extra_id_1> <extra_id_1> <extra_id_1> <extra_id_1>   </s>\"\n",
      "}\n",
      "'\n",
      "Done, took 25.38 sec, used T5 for summarizing intro to page on 'Sigmund Freud'.\n"
     ]
    }
   ],
   "source": [
    "ask_title_max_min(\"Sigmund Freud\",512,200,\"T5\")"
   ]
  },
  {
   "cell_type": "code",
   "execution_count": 8,
   "metadata": {},
   "outputs": [
    {
     "name": "stdout",
     "output_type": "stream",
     "text": [
      "Works! Text = '{\n",
      "  \"errors\": [], \n",
      "  \"id\": \"09600191-883c-4610-a50e-06f76b0cf09e\", \n",
      "  \"text\": \" Sigmund Freud was born in Freiberg, Austria, in 1856 . He was an Austrian neurologist and the founder of psychoanalysis . In 1938, Freud left Austria to escape Nazi persecution . He died in exile in the United Kingdom in 1939 . In his later works, Freud developed a wide-ranging interpretation and critique of religion and culture . W. H. Auden's 1940 poetic tribute to Freud describes him as having created \\\"a whole climate of opinion under whom we conduct our different lives\\\" Freud postulated the existence of libido, sexualised energy with which mental processes and structures are invested and which generates erotic attachments, and a death drive, and which is the source of compulsive repetition, hate, aggression, and neurotic guilt . The Oedipus complex is the central tenet of psychoanalytical theory . Freud's work has suffused contemporary Western thought and popular culture. It remains influential within psychology, psychiatry, and psychotherapy, and across the humanities .\"\n",
      "}\n",
      "'\n",
      "Done, took 15.14 sec, used BART for summarizing intro to page on 'Sigmund Freud'.\n"
     ]
    }
   ],
   "source": [
    "ask_title_max_min(\"Sigmund Freud\",512,200,\"BART\")"
   ]
  },
  {
   "cell_type": "markdown",
   "metadata": {},
   "source": [
    "## As BART summaries get longer, however, they tend to degrade or repeat themselves towards the end."
   ]
  },
  {
   "cell_type": "code",
   "execution_count": 9,
   "metadata": {},
   "outputs": [
    {
     "name": "stdout",
     "output_type": "stream",
     "text": [
      "Works! Text = '{\n",
      "  \"errors\": [], \n",
      "  \"id\": \"63fc4e08-6dbd-42ba-99ae-469d57c6ab2c\", \n",
      "  \"text\": \" Adolf Hitler was an Austrian-born German politician who was the dictator of Germany from 1933 until his death in 1945 . During his dictatorship, he initiated World War II in Europe by invading Poland on 1 September 1939 . He was central to the perpetration of the Holocaust, the genocide of about six million Jews and millions of other victims . Hitler aimed to eliminate Jews from Germany and establish a New Order to counter what he saw as the injustice of the post-World War I international order dominated by Britain and France . On 29 April 1945, he married his longtime lover Eva Braun in the F\\u00fchrerbunker in Berlin . Less than two days later, the couple committed suicide to avoid capture by the Soviet Red Army, their corpses were burned . Historian and biographer Ian Kershaw describes Hitler as \\\"the embodiment of modern political evil\\\". The Nazi regime was also responsible for the killing of an estimated 19.3 million civilians and prisoners of war. In addition, 28.7 million soldiers and civilians died as a result of military action in the European theatre of the European Theatre of World War I in the German theatre of 1941. The number of civilians killed during World War Two was unprecedented in warfare was the deadliest conflict in warfare. It was the most deadly conflict in history.\"\n",
      "}\n",
      "'\n",
      "Done, took 22.97 sec, used BART for summarizing intro to page on 'Adolf Hitler'.\n"
     ]
    }
   ],
   "source": [
    "ask_title_max_min(\"Adolf Hitler\",512,256,\"BART\")"
   ]
  },
  {
   "cell_type": "code",
   "execution_count": 10,
   "metadata": {},
   "outputs": [
    {
     "name": "stdout",
     "output_type": "stream",
     "text": [
      "Works! Text = '{\n",
      "  \"errors\": [], \n",
      "  \"id\": \"e892c11e-5b9e-494a-a2f9-6a511ca769f7\", \n",
      "  \"text\": \" Adolf Hitler was an Austrian-born German politician who was the dictator of Germany from 1933 until his death in 1945 . During his dictatorship, he initiated World War II in Europe by invading Poland on 1 September 1939 . He was central to the perpetration of the Holocaust, the genocide of about six million Jews and millions of other victims . Hitler aimed to eliminate Jews from Germany and establish a New Order to counter what he saw as the injustice of the post-World War I international order dominated by Britain and France . On 29 April 1945, he married his longtime lover Eva Braun in the F\\u00fchrerbunker in Berlin . Less than two days later, the couple committed suicide to avoid capture by the Soviet Red Army, their corpses were burned . Historian and biographer Ian Kershaw describes Hitler as \\\"the embodiment of modern political evil\\\". The Nazi regime was also responsible for the killing of an estimated 19.3 million civilians and prisoners of war. In addition, 28.7 million soldiers and civilians died as a result of military action in the European theatre of the European Theatre of World War I in the German theatre of 1941. The number of civilians killed during World War Two was unprecedented in warfare was the deadliest conflict in warfare. It was the most deadly conflict in European warfare, and the number of civilian casualties constitute the deadliest battle in warfare in modern warfare in history. It is also the most devastating conflict in German warfare. The Nazis were also responsible to kill an estimated 20.5 million prisoners and prisoners. The Germans and the Nazi regime. It killed an estimated 18,000 people in Germany. It also killed 28.2 million German soldiers and soldiers. The German army. In 1945, Hitler and the Nazis. The Nazi.com.au.auption.augmented.auction.auctions.auvented.uk.auited.auitable.auauctioning.auvery.aufered.auffering.auford.aufort.auflorried. It\\u00a0auford\\u2019s\\u00a0aufering.uk\\u2019tundundund.aufficial.auft.auver.auqua.auleg.augar.auld.auffee.augg.auged.aull.auffe.auved.aulet\\u2019d.aublor.auven.aucle.auholm.aufed.auvered.aulfred.auvey.aubricht.\"\n",
      "}\n",
      "'\n",
      "Done, took 54.49 sec, used BART for summarizing intro to page on 'Adolf Hitler'.\n"
     ]
    }
   ],
   "source": [
    "ask_title_max_min(\"Adolf Hitler\",1024,500,\"BART\")"
   ]
  },
  {
   "cell_type": "code",
   "execution_count": 11,
   "metadata": {},
   "outputs": [
    {
     "name": "stdout",
     "output_type": "stream",
     "text": [
      "Works! Text = '{\n",
      "  \"errors\": [], \n",
      "  \"id\": \"c55cac98-2f9d-460a-9d17-ae7ffdfa5cf8\", \n",
      "  \"text\": \" Postmodernism is an attitude of skepticism toward what it describes as the grand narratives and ideologies of modernism . It questions or criticizes viewpoints associated with Enlightenment rationality dating back to the 17th century . It is characterized by irony, eclecticism, and its rejection of the \\\"universal validity\\\" of binary oppositions, stable identity, hierarchy, and categorization . Postmodernists are generally skeptical of explanations which claim to be valid for all groups, cultures, traditions, or races . It can be described as a reaction against attempts to explain reality in an objective manner by claiming that reality is a mental construct . As a critical practice, postmodernism employs concepts such as hyperreality, simulacrum, trace, and difference, and rejects abstract principles in favor of direct experience . Some philosophers, beginning with the pragmatist philosopher J\\u00fcrgen Habermas, say that postmodernisms contradicts itself through self-reference, as their critique would be impossible without the concepts and methods that modern reason provides to modern reason . PostModernist approaches have been adopted in a variety of academic and theoretical disciplines, including political science, organization theory, linguistics, architecture, and literary criticism, as well as architecture, feminist theory, and feminist theory. Postmodernist approaches are adopted in\"\n",
      "}\n",
      "'\n",
      "Done, took 23.02 sec, used BART for summarizing intro to page on 'Postmodernism'.\n"
     ]
    }
   ],
   "source": [
    "ask_title_max_min(\"Postmodernism\",512,256,\"BART\")"
   ]
  },
  {
   "cell_type": "code",
   "execution_count": 12,
   "metadata": {},
   "outputs": [
    {
     "name": "stdout",
     "output_type": "stream",
     "text": [
      "Works! Text = '{\n",
      "  \"errors\": [], \n",
      "  \"id\": \"4d5ad355-103a-4e49-bb4f-a33b521539f2\", \n",
      "  \"text\": \" Postmodernism is an attitude of skepticism toward what it describes as the grand narratives and ideologies of modernism . It questions or criticizes viewpoints associated with Enlightenment rationality dating back to the 17th century . It is characterized by irony, eclecticism, and its rejection of the \\\"universal validity\\\" of binary oppositions, stable identity, hierarchy, and categorization . Postmodernists are generally skeptical of explanations which claim to be valid for all groups, cultures, traditions, or races . It can be described as a reaction against attempts to explain reality in an objective manner by claiming that reality is a mental construct . As a critical practice, postmodernism employs concepts such as hyperreality, simulacrum, trace, and difference, and rejects abstract principles in favor of direct experience . Some philosophers, beginning with the pragmatist philosopher J\\u00fcrgen Habermas, say that postmodernisms contradicts itself through self-reference, as their critique would be impossible without the concepts and methods that modern reason provides to modern reason . PostModernist approaches have been adopted in a variety of academic and theoretical disciplines, including political science, organization theory, linguistics, architecture, and literary criticism, as well as architecture, feminist theory, and feminist theory. Postmodernist approaches are often adopted in various fields such as literature and music and music. PostModernism is often associated with deconstruction and post-structuralism. It has been criticized by philosophers and postmodernist theories such as deconstruction. It also has been described by philosophers. It is also criticized by critics, such as postmodernists. It was also considered by academics and architects and architects. It includes. by philosophers, architects and philosophers of science and architecture. It contains a number of different types of analysis and cultural theories of the 1990s and cultural studies. It comprises a range of theories that have been used in the theory of postmoderns and moderns. The theory of deconstructing and critical theory is based on a theory of the moderns and contemporary theories of moderns, which are based on postmodernisisisism. The philosophy of modernisis. The theories of post-moderns. and critical theories of critical theory. The postmodern. and modernis. and posttechnological theory. In the theory. postmodern theory. of modernists. and contemporary science. The analysis of modernist. of the theory and analysis of the postmodern, however, is based. of deconstruction is based in moderns is based upon the analysis of historical and contemporary.\"\n",
      "}\n",
      "'\n",
      "Done, took 44.16 sec, used BART for summarizing intro to page on 'Postmodernism'.\n"
     ]
    }
   ],
   "source": [
    "ask_title_max_min(\"Postmodernism\",1024,512,\"BART\")"
   ]
  },
  {
   "cell_type": "code",
   "execution_count": 13,
   "metadata": {},
   "outputs": [
    {
     "name": "stdout",
     "output_type": "stream",
     "text": [
      "Works! Text = '{\n",
      "  \"errors\": [], \n",
      "  \"id\": \"d898c5b9-4d6a-4e1c-9c61-e7b949957858\", \n",
      "  \"text\": \" Gaius Julius Caesar was a Roman general and statesman . He was a member of the First Triumvirate . He led the Roman armies in the Gallic Wars before defeating his political rival Pompey in a civil war . He became dictator of Rome from 49 BC until his assassination in 44 BC . Caesar is considered by many historians to be one of the greatest military commanders in history . His cognomen was subsequently adopted as a synonym for \\\"Emperor\\\"; the title \\\"Caesar\\\" was used throughout the Roman Empire, giving rise to modern cognates such as Kaiser and Tsar . His great-nephew and adopted heir Octavian, later known as Augustus, rose to sole power after defeating his opponents in the last civil war of the Roman Republic and the rise of the Empire . He died on the Ides of March (15 March, 44 BC, and was stabbed to death by a group of rebellious senators led by Brutus and Cassius, who stabbed him to death in his death in a new series of revolts and assassinations . He has frequently appeared in literary and artistic works, and his political philosophy, known as Caesarism, has inspired politicians into the modern era of the modern period . He is considered to be an author and\"\n",
      "}\n",
      "'\n",
      "Done, took 23.48 sec, used BART for summarizing intro to page on 'Julius Caesar'.\n"
     ]
    }
   ],
   "source": [
    "ask_title_max_min(\"Julius Caesar\",512,256,\"BART\")"
   ]
  },
  {
   "cell_type": "code",
   "execution_count": 14,
   "metadata": {},
   "outputs": [
    {
     "name": "stdout",
     "output_type": "stream",
     "text": [
      "Works! Text = '{\n",
      "  \"errors\": [], \n",
      "  \"id\": \"d95a5ae4-494a-41ad-ba3e-0a9896b42d18\", \n",
      "  \"text\": \" Gaius Julius Caesar was a Roman general and statesman . He was a member of the First Triumvirate . He led the Roman armies in the Gallic Wars before defeating his political rival Pompey in a civil war . He became dictator of Rome from 49 BC until his assassination in 44 BC . Caesar is considered by many historians to be one of the greatest military commanders in history . His cognomen was subsequently adopted as a synonym for \\\"Emperor\\\"; the title \\\"Caesar\\\" was used throughout the Roman Empire, giving rise to modern cognates such as Kaiser and Tsar . His great-nephew and adopted heir Octavian, later known as Augustus, rose to sole power after defeating his opponents in the last civil war of the Roman Republic and the rise of the Empire . He died on the Ides of March (15 March, 44 BC, and was stabbed to death by a group of rebellious senators led by Brutus and Cassius, who stabbed him to death in his death in a new series of revolts and assassinations . He has frequently appeared in literary and artistic works, and his political philosophy, known as Caesarism, has inspired politicians into the modern era of the modern period . He is considered to be an author and historian as well as a writer and historian . He also had a wife and author of his wife and wife. He was killed in his own wife and daughter. He died in his wife, and her husband and daughter, in his daughter, and daughter of his daughter and daughter-in-law, in an unknown unknowns. The Romans, and the Romans, in her husband, in the mid-ninners. The Roman Empire. The first person to have a daughter and mother-inlaw, and their daughter-daughter-inlaws, in a family-daughter-inflorshanker. Caesar was the daughter-to-be-dailailor-maid-innorshaunt, was the mother-and-mother-inlorshanger. She was the first daughter-nailor. She died in the middle of her daughter-dalless. She is the daughter of a daughter-of-dauntaunt. Caesar\\u2019s father-inundundundan. Caesar, her mother-della, was her daughter. She had a son-inntnaunt. She\\u2019ll be the first person in the family\\u2019\"\n",
      "}\n",
      "'\n",
      "Done, took 43.42 sec, used BART for summarizing intro to page on 'Julius Caesar'.\n"
     ]
    }
   ],
   "source": [
    "ask_title_max_min(\"Julius Caesar\",1024,500,\"BART\")"
   ]
  }
 ],
 "metadata": {
  "kernelspec": {
   "display_name": "M1",
   "language": "python",
   "name": "m1"
  },
  "language_info": {
   "codemirror_mode": {
    "name": "ipython",
    "version": 3
   },
   "file_extension": ".py",
   "mimetype": "text/x-python",
   "name": "python",
   "nbconvert_exporter": "python",
   "pygments_lexer": "ipython3",
   "version": "3.8.12"
  }
 },
 "nbformat": 4,
 "nbformat_minor": 4
}
