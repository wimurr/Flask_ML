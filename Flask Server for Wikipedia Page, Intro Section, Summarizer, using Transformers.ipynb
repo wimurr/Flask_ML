{
 "cells": [
  {
   "cell_type": "code",
   "execution_count": 1,
   "metadata": {},
   "outputs": [],
   "source": [
    "import matplotlib\n",
    "import matplotlib.pyplot as plt\n",
    "import numpy as np\n",
    "import scipy\n",
    "import time\n",
    "import torch\n",
    "from torch import nn"
   ]
  },
  {
   "cell_type": "markdown",
   "metadata": {},
   "source": [
    "## Text Summarization"
   ]
  },
  {
   "cell_type": "code",
   "execution_count": 2,
   "metadata": {},
   "outputs": [
    {
     "name": "stderr",
     "output_type": "stream",
     "text": [
      "No model was supplied, defaulted to sshleifer/distilbart-cnn-12-6 (https://huggingface.co/sshleifer/distilbart-cnn-12-6)\n"
     ]
    }
   ],
   "source": [
    "from transformers import AutoModelForSeq2SeqLM, AutoTokenizer\n",
    "from transformers import pipeline\n",
    "\n",
    "# We can use either BART or T5\n",
    "\n",
    "# for BART...we can use the built-in pipeline, which uses BART.\n",
    "BART_summarizer = pipeline(\"summarization\")\n",
    "\n",
    "# ...or we can specify T5 specifically.\n",
    "T5_model = AutoModelForSeq2SeqLM.from_pretrained(\"t5-base\")\n",
    "T5_tokenizer = AutoTokenizer.from_pretrained(\"t5-base\")"
   ]
  },
  {
   "cell_type": "code",
   "execution_count": 3,
   "metadata": {},
   "outputs": [],
   "source": [
    "# T5 uses a max_length of 512 so we cut the article to 512 tokens.\n",
    "def T5_summarize(article_text, max_length=150, min_length=40, print_stats=True):\n",
    "    inputs = T5_tokenizer(\"summarize: \" + article_text, return_tensors=\"pt\", max_length=512, truncation=True)\n",
    "    outputs = T5_model.generate(\n",
    "        inputs[\"input_ids\"], max_length=max_length, min_length=min_length, length_penalty=2.0, num_beams=4, early_stopping=True\n",
    "    )\n",
    "    summary_text = T5_tokenizer.decode(outputs[0])\n",
    "    if print_stats:\n",
    "        print(f\"Input text had {len(article_text)}, now summarized to {len(summary_text)}.\")\n",
    "    return summary_text"
   ]
  },
  {
   "cell_type": "code",
   "execution_count": 4,
   "metadata": {},
   "outputs": [],
   "source": [
    "def BART_summarize(article_text, max_length=130, min_length=30):\n",
    "    summary_text = BART_summarizer(article_text,max_length=max_length,min_length=min_length)\n",
    "    # current form: [{'summary_text': ' Liana Barrientos, 39, is charged with two cou... '}]\n",
    "    summary_text = summary_text[0]['summary_text']\n",
    "    return summary_text"
   ]
  },
  {
   "cell_type": "code",
   "execution_count": 5,
   "metadata": {},
   "outputs": [],
   "source": [
    "def summarize(article_text, use_BART, **kwargs):\n",
    "    # other arguments are max_length and min_length for article text\n",
    "    if use_BART:\n",
    "        return BART_summarize(article_text, **kwargs)\n",
    "    else:\n",
    "        return T5_summarize(article_text, **kwargs)"
   ]
  },
  {
   "cell_type": "markdown",
   "metadata": {},
   "source": [
    "## Getting Wikipedia Intro Text to Summarize"
   ]
  },
  {
   "cell_type": "code",
   "execution_count": 6,
   "metadata": {},
   "outputs": [],
   "source": [
    "import wikipedia"
   ]
  },
  {
   "cell_type": "code",
   "execution_count": 7,
   "metadata": {},
   "outputs": [],
   "source": [
    "import flask"
   ]
  },
  {
   "cell_type": "code",
   "execution_count": 8,
   "metadata": {},
   "outputs": [],
   "source": [
    "from functools import lru_cache"
   ]
  },
  {
   "cell_type": "code",
   "execution_count": 9,
   "metadata": {},
   "outputs": [],
   "source": [
    "# watch out - wikipedia.summary will raise a DisambiguationError if the page is a disambiguation page, or \n",
    "# a PageError if the page doesn’t exist. We cache results since we are just retrieving intro pages and wish\n",
    "# to reduce Wikipedia lookup time and focus on summarization in timings.\n",
    "\n",
    "@lru_cache()\n",
    "def get_wikipedia_content_for_page(page_name,allow_auto_suggest=False):\n",
    "    '''Returns page content if page can be found and is unique, otherwise a list of\n",
    "    alternatives to try if disambiguation required. First value is whether page was\n",
    "    found uniquely, second value either the contents or disambiguation alternatives.\n",
    "    \n",
    "    Since auto-suggest can sometimes return an incorrect page title (like auto-correct!),\n",
    "    we first try the page name as is, without auto_suggest. If that fails then we try\n",
    "    again with auto_suggest on.\n",
    "    \n",
    "    '''\n",
    "    try:\n",
    "        contents = wikipedia.summary(page_name,auto_suggest=allow_auto_suggest)\n",
    "        return True,contents\n",
    "    except wikipedia.exceptions.DisambiguationError as e:\n",
    "        if not allow_auto_suggest:\n",
    "            match,results = get_wikipedia_content_for_page(page_name,allow_auto_suggest=True)\n",
    "            return match,results\n",
    "        else:\n",
    "            return f'Disambiguation Error for name {page_name}',e.options\n",
    "    except wikipedia.exceptions.PageError as e:\n",
    "        if not allow_auto_suggest:\n",
    "            match,results = get_wikipedia_content_for_page(page_name,allow_auto_suggest=True)\n",
    "            return match,results\n",
    "        return f'No Such Page Error: {page_name}',[]\n",
    "    except wikipedia.exceptions.HTTPTimeoutError as e:\n",
    "        return f'Timeout Error: {page_name}',[]\n",
    "    except wikipedia.exceptions.RedirectError as e:\n",
    "        return f'Redirect Error: {page_name}',[]"
   ]
  },
  {
   "cell_type": "code",
   "execution_count": 10,
   "metadata": {},
   "outputs": [
    {
     "data": {
      "text/plain": [
       "(True,\n",
       " 'Gaius Julius Caesar (Latin: [ˈɡaːiʊs ˈjuːliʊs ˈkae̯sar]; 12 July 100 BC – 15 March 44 BC) was a Roman general and statesman. A member of the First Triumvirate, Caesar led the Roman armies in the Gallic Wars before defeating his political rival Pompey in a civil war, and subsequently became dictator of Rome from 49 BC until his assassination in 44 BC. He played a critical role in the events that led to the demise of the Roman Republic and the rise of the Roman Empire.\\nIn 60 BC, Caesar, Crassus and Pompey formed the First Triumvirate, a political alliance that dominated Roman politics for several years. Their attempts to amass power as Populares were opposed by the Optimates within the Roman Senate, among them Cato the Younger with the frequent support of Cicero. Caesar rose to become one of the most powerful politicians in the Roman Republic through a string of military victories in the Gallic Wars, completed by 51 BC, which greatly extended Roman territory. During this time he both invaded Britain and built a bridge across the Rhine river. These achievements and the support of his veteran army threatened to eclipse the standing of Pompey, who had realigned himself with the Senate after the death of Crassus in 53 BC. With the Gallic Wars concluded, the Senate ordered Caesar to step down from his military command and return to Rome. In 49 BC, Caesar openly defied the Senate\\'s authority by crossing the Rubicon and marching towards Rome at the head of an army. This began Caesar\\'s civil war, which he won, leaving him in a position of near unchallenged power and influence in 45 BC.\\nAfter assuming control of government, Caesar began a program of social and governmental reforms, including the creation of the Julian calendar. He gave citizenship to many residents of far regions of the Roman Republic. He initiated land reform and support for veterans. He centralized the bureaucracy of the Republic and was eventually proclaimed \"dictator for life\" (dictator perpetuo). His populist and authoritarian reforms angered the elites, who began to conspire against him. On the Ides of March (15 March), 44 BC, Caesar was assassinated by a group of rebellious senators led by Brutus and Cassius, who stabbed him to death. A new series of civil wars broke out and the constitutional government of the Republic was never fully restored. Caesar\\'s great-nephew and adopted heir Octavian, later known as Augustus, rose to sole power after defeating his opponents in the last civil war of the Roman Republic. Octavian set about solidifying his power, and the era of the Roman Empire began.\\nCaesar was an accomplished author and historian as well as a statesman; much of his life is known from his own accounts of his military campaigns. Other contemporary sources include the letters and speeches of Cicero and the historical writings of Sallust. Later biographies of Caesar by Suetonius and Plutarch are also important sources. Caesar is considered by many historians to be one of the greatest military commanders in history. His cognomen was subsequently adopted as a synonym for \"Emperor\"; the title \"Caesar\" was used throughout the Roman Empire, giving rise to modern cognates such as Kaiser and Tsar. He has frequently appeared in literary and artistic works, and his political philosophy, known as Caesarism, inspired politicians into the modern era.')"
      ]
     },
     "execution_count": 10,
     "metadata": {},
     "output_type": "execute_result"
    }
   ],
   "source": [
    "get_wikipedia_content_for_page('Julius Caesar')"
   ]
  },
  {
   "cell_type": "code",
   "execution_count": 11,
   "metadata": {},
   "outputs": [],
   "source": [
    "from flask import Flask,request,jsonify\n",
    "import uuid"
   ]
  },
  {
   "cell_type": "code",
   "execution_count": 12,
   "metadata": {},
   "outputs": [],
   "source": [
    "app = Flask(__name__)"
   ]
  },
  {
   "cell_type": "code",
   "execution_count": 13,
   "metadata": {},
   "outputs": [],
   "source": [
    "expected_parameters = ['page_title','max_len','min_len','BART_or_T5']\n",
    "\n",
    "abs_max_max_summary_len = 1024 # truncate max summary length requested to 1024\n",
    "abs_max_min_summary_len = 512  # truncate max min summary length requested to 512\n",
    "abs_max_intro_text_len =  4096 # truncate max intro text considered to this size\n",
    "\n",
    "@app.route(\"/api\",methods=['POST'])\n",
    "def summarize_article():\n",
    "    content = request.json\n",
    "    errors =[]\n",
    "    \n",
    "    # check all expected parameters present\n",
    "    for name in expected_parameters:\n",
    "        if name not in content:\n",
    "            errors.append(f\"Missing value: {name}\")\n",
    "            \n",
    "    # get parameters if no errors\n",
    "    page_title = content['page_title']\n",
    "    max_len = content['max_len']\n",
    "    min_len = content['min_len']\n",
    "    BART_or_T5 = content['BART_or_T5']\n",
    "    \n",
    "    if max_len < min_len:\n",
    "        errors.append(f\"Max len, {max_len}, should be greater than min len, {min_len}.\")\n",
    "        \n",
    "    if BART_or_T5 not in [\"BART\",\"T5\"]:\n",
    "        errors.append(f'BART_or_T5 was not \"BART\" or \"T5\" but instead \"{BART_OR_T5}\"')\n",
    "    \n",
    "    if not(errors):\n",
    "        title_found, intro_text = get_wikipedia_content_for_page(page_title)\n",
    "        if not title_found:\n",
    "            errors.append(f\"Could not find '{page_title}'\")\n",
    "            \n",
    "        # truncate text to max_len\n",
    "        if title_found and len(intro_text) > abs_max_intro_text_len:\n",
    "            intro_text = intro_text[:abs_max_intro_text_len]\n",
    "            \n",
    "        if max_len > abs_max_max_summary_len:\n",
    "            max_len = abs_max_max_summary_len\n",
    "            \n",
    "        if min_len > abs_max_min_summary_len:\n",
    "            min_len = abs_max_min_summary_len\n",
    "            \n",
    "        summarized_text = summarize(intro_text,\n",
    "                                    use_BART=(BART_or_T5==\"BART\"), \n",
    "                                    max_length=max_len,\n",
    "                                    min_length=min_len)\n",
    "        \n",
    "        response = {\"id\":str(uuid.uuid4()), \"text\":summarized_text, \"errors\":errors}\n",
    "        \n",
    "    else:\n",
    "        \n",
    "        response = {\"id\":str(uuid.uuid4()), \"errors\":errors}\n",
    "        \n",
    "    return jsonify(response)"
   ]
  },
  {
   "cell_type": "code",
   "execution_count": null,
   "metadata": {},
   "outputs": [
    {
     "name": "stdout",
     "output_type": "stream",
     "text": [
      " * Serving Flask app '__main__' (lazy loading)\n",
      " * Environment: production\n",
      "\u001b[31m   WARNING: This is a development server. Do not use it in a production deployment.\u001b[0m\n",
      "\u001b[2m   Use a production WSGI server instead.\u001b[0m\n",
      " * Debug mode: on\n"
     ]
    },
    {
     "name": "stderr",
     "output_type": "stream",
     "text": [
      " * Running on http://127.0.0.1:5000/ (Press CTRL+C to quit)\n",
      "127.0.0.1 - - [13/Jan/2022 15:12:32] \"POST /api HTTP/1.1\" 200 -\n",
      "127.0.0.1 - - [13/Jan/2022 15:12:44] \"POST /api HTTP/1.1\" 200 -\n"
     ]
    },
    {
     "name": "stdout",
     "output_type": "stream",
     "text": [
      "Input text had 4096, now summarized to 269.\n"
     ]
    },
    {
     "name": "stderr",
     "output_type": "stream",
     "text": [
      "127.0.0.1 - - [13/Jan/2022 15:13:10] \"POST /api HTTP/1.1\" 200 -\n",
      "127.0.0.1 - - [13/Jan/2022 15:13:45] \"POST /api HTTP/1.1\" 200 -\n"
     ]
    },
    {
     "name": "stdout",
     "output_type": "stream",
     "text": [
      "Input text had 4096, now summarized to 900.\n"
     ]
    },
    {
     "name": "stderr",
     "output_type": "stream",
     "text": [
      "127.0.0.1 - - [13/Jan/2022 15:14:10] \"POST /api HTTP/1.1\" 200 -\n",
      "Your max_length is set to 512, but you input_length is only 487. You might consider decreasing max_length manually, e.g. summarizer('...', max_length=50)\n"
     ]
    },
    {
     "name": "stdout",
     "output_type": "stream",
     "text": [
      "Input text had 2374, now summarized to 963.\n"
     ]
    },
    {
     "name": "stderr",
     "output_type": "stream",
     "text": [
      "127.0.0.1 - - [13/Jan/2022 15:14:25] \"POST /api HTTP/1.1\" 200 -\n",
      "127.0.0.1 - - [13/Jan/2022 15:14:48] \"POST /api HTTP/1.1\" 200 -\n",
      "Your max_length is set to 1024, but you input_length is only 836. You might consider decreasing max_length manually, e.g. summarizer('...', max_length=50)\n",
      "127.0.0.1 - - [13/Jan/2022 15:15:43] \"POST /api HTTP/1.1\" 200 -\n",
      "127.0.0.1 - - [13/Jan/2022 15:16:06] \"POST /api HTTP/1.1\" 200 -\n",
      "Your max_length is set to 1024, but you input_length is only 629. You might consider decreasing max_length manually, e.g. summarizer('...', max_length=50)\n",
      "127.0.0.1 - - [13/Jan/2022 15:16:50] \"POST /api HTTP/1.1\" 200 -\n",
      "127.0.0.1 - - [13/Jan/2022 15:17:14] \"POST /api HTTP/1.1\" 200 -\n",
      "Your max_length is set to 1024, but you input_length is only 719. You might consider decreasing max_length manually, e.g. summarizer('...', max_length=50)\n",
      "127.0.0.1 - - [13/Jan/2022 15:17:57] \"POST /api HTTP/1.1\" 200 -\n",
      "127.0.0.1 - - [13/Jan/2022 16:40:40] \"GET / HTTP/1.1\" 404 -\n",
      "127.0.0.1 - - [13/Jan/2022 16:40:40] \"GET /favicon.ico HTTP/1.1\" 404 -\n"
     ]
    }
   ],
   "source": [
    "if __name__==\"__main__\":\n",
    "    app.run(debug=True, use_reloader=False)"
   ]
  },
  {
   "cell_type": "code",
   "execution_count": null,
   "metadata": {},
   "outputs": [],
   "source": []
  }
 ],
 "metadata": {
  "kernelspec": {
   "display_name": "M1",
   "language": "python",
   "name": "m1"
  },
  "language_info": {
   "codemirror_mode": {
    "name": "ipython",
    "version": 3
   },
   "file_extension": ".py",
   "mimetype": "text/x-python",
   "name": "python",
   "nbconvert_exporter": "python",
   "pygments_lexer": "ipython3",
   "version": "3.8.12"
  }
 },
 "nbformat": 4,
 "nbformat_minor": 4
}
